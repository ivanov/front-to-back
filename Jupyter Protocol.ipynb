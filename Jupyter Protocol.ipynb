{
 "cells": [
  {
   "cell_type": "code",
   "execution_count": 22,
   "metadata": {},
   "outputs": [
    {
     "data": {
      "text/html": [
       "<script async src=\"//platform.twitter.com/widgets.js\" charset=\"utf-8\"></script>"
      ],
      "text/plain": [
       "<IPython.core.display.HTML object>"
      ]
     },
     "execution_count": 22,
     "metadata": {},
     "output_type": "execute_result"
    }
   ],
   "source": [
    "# This cell won't appear in the presentation\n",
    "import IPython.display as d\n",
    "d.HTML(\"\"\"<script async src=\"//platform.twitter.com/widgets.js\" charset=\"utf-8\"></script>\"\"\")"
   ]
  },
  {
   "cell_type": "markdown",
   "metadata": {},
   "source": [
    "<br><br><br><br>"
   ]
  },
  {
   "cell_type": "markdown",
   "metadata": {},
   "source": [
    "# <center>Jupyter: Kernels, Protocols,<br> and the IPython reference implementation<br><br>  </center>\n",
    "\n",
    "<table style=\"border:100px solid white;\">\n",
    "<tr>\n",
    "<td>\n",
    "Paul Ivanov\n",
    "</td>\n",
    "<td width=\"100px\"></td>\n",
    "<td>\n",
    "Matthias Bussonier\n",
    "</td>\n",
    "</tr>\n",
    "<tr>\n",
    "\n",
    "<td>\n",
    "Bloomberg LP\n",
    "</td>\n",
    "<td></td>\n",
    "<td>UC Berkeley</td>\n",
    "</tr>"
   ]
  },
  {
   "cell_type": "markdown",
   "metadata": {},
   "source": [
    "One of the foundations of Jupyter is a protocol that explicitly defines all the actions and results that comprise the workflow of interactive computing across a wide range of programming languages. This abstracts and decouples the process of code execution (performed by a kernel) from code input and results rendering. It allowed the many frontends to be developed independently but also permitted the quick addition of new kernels and languages. IPython, developed by the Jupyter team, is the canonical implementation of this protocol, providing a rich interactive experience in Python.\n",
    "\n",
    "Matthias Bussonnier and Paul Ivanov walk you through the current Jupyter architecture and protocol and explain how kernels work (decoupled from but in communication with the environment for input and output, such as a notebook document). Matthias and Paul also offer an overview of a number of kernels developed by the community and show you how you can get started writing a new kernel."
   ]
  },
  {
   "cell_type": "markdown",
   "metadata": {},
   "source": [
    "&nbsp;"
   ]
  },
  {
   "cell_type": "markdown",
   "metadata": {},
   "source": [
    "<br><br><br><br>"
   ]
  },
  {
   "cell_type": "markdown",
   "metadata": {},
   "source": [
    "<br><br><br><br>"
   ]
  },
  {
   "cell_type": "markdown",
   "metadata": {},
   "source": [
    "<br><br><br><br>"
   ]
  },
  {
   "cell_type": "markdown",
   "metadata": {},
   "source": [
    "# Some history\n",
    "\n",
    "\n",
    "- Ada Lovelace - first programmer (mid 19th century)\n",
    "- Grace Hopper - first compiler (1954)\n",
    "- John McCarthy - first interpreted language - LISP (1958)\n",
    "- Alan Kay, Dan Ingalls, Adele Goldberg - SmallTalk (1972)\n",
    "- Guido van Rossum - Python (1991)\n",
    "  \n",
    "- Fernando Pérez - IPython (2001)\n",
    "  - \"An afternoon hack\" - thesis procrastination project..."
   ]
  },
  {
   "cell_type": "markdown",
   "metadata": {},
   "source": [
    "<img src=\"/files/images/Ada_Lovelace_portrait.jpg\" width=200px>"
   ]
  },
  {
   "cell_type": "markdown",
   "metadata": {},
   "source": [
    "<br><br><br><br>"
   ]
  },
  {
   "cell_type": "markdown",
   "metadata": {},
   "source": [
    "# Read - Eval - Print Loop"
   ]
  },
  {
   "cell_type": "markdown",
   "metadata": {},
   "source": [
    "IPython was the Python REPL with a few extra bells and whistles..."
   ]
  },
  {
   "cell_type": "code",
   "execution_count": 1,
   "metadata": {},
   "outputs": [
    {
     "data": {
      "text/plain": [
       "4"
      ]
     },
     "execution_count": 1,
     "metadata": {},
     "output_type": "execute_result"
    }
   ],
   "source": [
    "2+2"
   ]
  },
  {
   "cell_type": "markdown",
   "metadata": {},
   "source": [
    "Python provides _, which gets you the last result.\n",
    "In IPython, you get to access all outputs by number like so..."
   ]
  },
  {
   "cell_type": "code",
   "execution_count": 2,
   "metadata": {},
   "outputs": [
    {
     "data": {
      "text/plain": [
       "4"
      ]
     },
     "execution_count": 2,
     "metadata": {},
     "output_type": "execute_result"
    }
   ],
   "source": [
    "Out[1]  # or _9 "
   ]
  },
  {
   "cell_type": "code",
   "execution_count": 3,
   "metadata": {
    "collapsed": true
   },
   "outputs": [],
   "source": [
    "x = \"Jupyter Con \""
   ]
  },
  {
   "cell_type": "markdown",
   "metadata": {},
   "source": [
    "Let's see what properties and methods are attached to a string, using tab-completion."
   ]
  },
  {
   "cell_type": "code",
   "execution_count": 8,
   "metadata": {
    "collapsed": true
   },
   "outputs": [],
   "source": [
    "x.e"
   ]
  },
  {
   "cell_type": "code",
   "execution_count": 9,
   "metadata": {
    "collapsed": true
   },
   "outputs": [],
   "source": [
    "x.endswith?"
   ]
  },
  {
   "cell_type": "markdown",
   "metadata": {},
   "source": [
    "When the object we're dealing with is implemented in Python, \n",
    "`obj??` will bring up its source code!"
   ]
  },
  {
   "cell_type": "code",
   "execution_count": 16,
   "metadata": {
    "collapsed": true
   },
   "outputs": [],
   "source": [
    "import os"
   ]
  },
  {
   "cell_type": "code",
   "execution_count": 15,
   "metadata": {
    "collapsed": true
   },
   "outputs": [],
   "source": [
    "os.path?"
   ]
  },
  {
   "cell_type": "code",
   "execution_count": 12,
   "metadata": {
    "collapsed": true
   },
   "outputs": [],
   "source": [
    "os.path??"
   ]
  },
  {
   "cell_type": "code",
   "execution_count": 14,
   "metadata": {
    "collapsed": true
   },
   "outputs": [],
   "source": [
    "os.path.join?\n",
    "os.path.join??"
   ]
  },
  {
   "cell_type": "markdown",
   "metadata": {},
   "source": [
    "<br><br><br><br><br><br><br><Br><br>\n",
    "<br><br><br><br><br><br><br><Br><br>\n",
    "<br><br><br><br><br><br><br><Br><br>"
   ]
  },
  {
   "cell_type": "markdown",
   "metadata": {},
   "source": [
    "What if we de-couple execution from input...."
   ]
  },
  {
   "cell_type": "markdown",
   "metadata": {},
   "source": [
    "# QtConsole is born\n",
    "\n",
    "- [IPython 0.11](http://ipython.org/news.html#ipython-0-11) - QtConsole (2011)  \n",
    "<img src=\"/files/images/qtconsole.png\" width=200px> (started in 2010?)\n",
    "\n",
    "- Paul Ivanov (me) - vim-ipython (Summer 2011)\n",
    "- The notebook - (December 2011)\n",
    "<img src=\"/files/images/ipy0.12.png\" width=200px></div>"
   ]
  },
  {
   "cell_type": "markdown",
   "metadata": {},
   "source": [
    "<br><br><br><br>"
   ]
  },
  {
   "cell_type": "markdown",
   "metadata": {},
   "source": [
    "<br><br><br><br>"
   ]
  },
  {
   "cell_type": "markdown",
   "metadata": {},
   "source": [
    "<br><br><br><br>"
   ]
  },
  {
   "cell_type": "markdown",
   "metadata": {},
   "source": [
    "# Analogy   (imperfect, but useful)"
   ]
  },
  {
   "cell_type": "markdown",
   "metadata": {},
   "source": [
    "<table>\n",
    "\n",
    "    <tr><th>The Web</th><th width=400px></th><th>Jupyter</th></tr>\n",
    "    <tr><td>\n",
    "        Browser\n",
    "        <br>\n",
    "        ![](/files/images/nextstation.jpg)\n",
    "        </td>\n",
    "\n",
    "        <td width=400px></td>\n",
    "        <td>\n",
    "        Client\n",
    "        <br>\n",
    "        ![](/files/images/computer.png)\n",
    "        </td>\n",
    "    </tr>\n",
    "   \n",
    "    <tr><td>\n",
    "    <br>\n",
    "        <h3>speaks **HTTP** with</h3>\n",
    "          <br>\n",
    "\n",
    "        <br>\n",
    "\n",
    "        </td>\n",
    "\n",
    "        <td width=400px></td>\n",
    "        <td>\n",
    "                <br>\n",
    "\n",
    "        <h3>speaks Jupyter Protocol with</h3>\n",
    "                <br>\n",
    "\n",
    "        </td>\n",
    "    </tr>\n",
    "    \n",
    "    <tr><td>\n",
    "        Webserver\n",
    "        <br>\n",
    "        ![](/files/images/next.jpg)\n",
    "        </td>\n",
    "\n",
    "        <td width=400px></td>\n",
    "        <td>\n",
    "        Kernel\n",
    "        <br>\n",
    "        ![](/files/images/pdp12.jpg)\n",
    "        </td>\n",
    "    </tr>\n",
    "\n",
    "</table>"
   ]
  },
  {
   "cell_type": "markdown",
   "metadata": {},
   "source": [
    "<br><br><br><br>"
   ]
  },
  {
   "cell_type": "markdown",
   "metadata": {},
   "source": [
    "<br><br><br><br>"
   ]
  },
  {
   "cell_type": "markdown",
   "metadata": {},
   "source": [
    "<br><br><br><br>"
   ]
  },
  {
   "cell_type": "markdown",
   "metadata": {},
   "source": [
    "<br><br><br><br><br><br><br><Br><br>\n",
    "<br><br><br><br><br><br><br><Br><br>\n",
    "<br><br><br><br><br><br><br><Br><br>"
   ]
  },
  {
   "cell_type": "markdown",
   "metadata": {},
   "source": [
    "<br><br><br><br>"
   ]
  },
  {
   "cell_type": "markdown",
   "metadata": {},
   "source": [
    "<br><br><br><br>"
   ]
  },
  {
   "cell_type": "markdown",
   "metadata": {},
   "source": [
    "# Kernel"
   ]
  },
  {
   "cell_type": "markdown",
   "metadata": {},
   "source": [
    "<br><br><br><br>"
   ]
  },
  {
   "cell_type": "markdown",
   "metadata": {},
   "source": [
    "## Computational Engine"
   ]
  },
  {
   "cell_type": "markdown",
   "metadata": {},
   "source": [
    "### - accepts messages <br><br> - performs actions <br><br> - sends out results"
   ]
  },
  {
   "cell_type": "markdown",
   "metadata": {},
   "source": [
    "<br><br><br><br>"
   ]
  },
  {
   "cell_type": "markdown",
   "metadata": {},
   "source": [
    "Note: In the Jupyter context, the word \"kernel\" is not related to the operating system kernel (Linux kernel, Windows kernel32, Darwin). A Jupyter kernel provides the computational backend to Jupyter clients."
   ]
  },
  {
   "cell_type": "markdown",
   "metadata": {},
   "source": [
    "<br><br><br><br>"
   ]
  },
  {
   "cell_type": "markdown",
   "metadata": {},
   "source": [
    "<br><br><br><br>"
   ]
  },
  {
   "cell_type": "markdown",
   "metadata": {},
   "source": [
    "<br><br><br><br>"
   ]
  },
  {
   "cell_type": "markdown",
   "metadata": {},
   "source": [
    "# One-to-Many (Kernel to Clients)"
   ]
  },
  {
   "cell_type": "markdown",
   "metadata": {},
   "source": [
    "<br><br><br><br>"
   ]
  },
  {
   "cell_type": "markdown",
   "metadata": {},
   "source": [
    "\n",
    "<centeR>\n",
    "<h2>console    qtconsole   vim-ipython   console  \n",
    "<br><br><br><br><br><br>\n",
    "\n",
    "\n",
    "\n",
    "\n",
    "\n",
    "\n",
    "\n",
    "kernel\n",
    "</h2>\n",
    "</centeR>\n",
    "\n",
    "### draw arrows here"
   ]
  },
  {
   "cell_type": "markdown",
   "metadata": {},
   "source": [
    "<br><br><br><br>"
   ]
  },
  {
   "cell_type": "markdown",
   "metadata": {},
   "source": [
    "<br><br><br><br>"
   ]
  },
  {
   "cell_type": "markdown",
   "metadata": {},
   "source": [
    "<br><br><br><br>"
   ]
  },
  {
   "cell_type": "markdown",
   "metadata": {},
   "source": [
    "<br><br><br><br>"
   ]
  },
  {
   "cell_type": "markdown",
   "metadata": {},
   "source": [
    "<br><br><br><br>"
   ]
  },
  {
   "cell_type": "markdown",
   "metadata": {},
   "source": [
    "# Client"
   ]
  },
  {
   "cell_type": "markdown",
   "metadata": {},
   "source": [
    "<br><br><br><br>"
   ]
  },
  {
   "cell_type": "markdown",
   "metadata": {},
   "source": [
    "## - connects to exactly one kernel <br><br><br> - send messages to kernel based on user actions <br><br><br> - displays kernel messages when appropriate"
   ]
  },
  {
   "cell_type": "markdown",
   "metadata": {},
   "source": [
    "<br><br><br><br>"
   ]
  },
  {
   "cell_type": "markdown",
   "metadata": {},
   "source": [
    "<br><br><br><br>"
   ]
  },
  {
   "cell_type": "markdown",
   "metadata": {},
   "source": [
    "<br><br><br><br>"
   ]
  },
  {
   "cell_type": "markdown",
   "metadata": {},
   "source": [
    "<br><br><br><br>"
   ]
  },
  {
   "cell_type": "markdown",
   "metadata": {},
   "source": [
    "# Why have many clients?"
   ]
  },
  {
   "cell_type": "markdown",
   "metadata": {},
   "source": [
    "<br><br><br><br>"
   ]
  },
  {
   "cell_type": "markdown",
   "metadata": {},
   "source": [
    "Differences in\n",
    "\n",
    "\n",
    "- **multiline editing**\n",
    "    - qtconsole, notebook, vim-ipython, nteract, jupyterlab\n",
    "\n",
    "- **display capabilities**\n",
    "    - images in qtconsole\n",
    "    - images, video, javascript in classic notebook, nteract, jupyterlab\n",
    "- **persistence** \n",
    "    - no save and rerun in console, qtconsole\n",
    "    - .ipynb files for notebook, EIN, nteract\n",
    "    - files for vim-ipython\n",
    "- **user interface** \n",
    "    <blockquote class=\"twitter-tweet\" lang=\"en\"><p>I have a serious illness: chronic CLI.&#10;&#10;It&#39;s terminal.</p>&mdash; Paul Ivanov (@ivanov) <a href=\"https://twitter.com/ivanov/statuses/462656105273757696\">May 3, 2014</a></blockquote>\n",
    "\n",
    "- **client-side requirements**\n",
    "    - python for console, qtconsle (vim-ipython, bipython)\n",
    "    - modern web browser for notebook\n",
    "    - operating syste teract"
   ]
  },
  {
   "cell_type": "markdown",
   "metadata": {},
   "source": [
    "<br><br><br><br>"
   ]
  },
  {
   "cell_type": "markdown",
   "metadata": {},
   "source": [
    "<br><br><br><br><br><br><br><Br><br>\n",
    "<br><br><br><br><br><br><br><Br><br>\n",
    "<br><br><br><br><br><br><br><Br><br>"
   ]
  },
  {
   "cell_type": "markdown",
   "metadata": {},
   "source": [
    "# Clients"
   ]
  },
  {
   "cell_type": "markdown",
   "metadata": {},
   "source": [
    "## Project Jupyter\n",
    "\n",
    "`jupyter qtconsole` - the original decoupling, uses Qt4\n",
    "\n",
    "`jupyter console` - terminal version, decoupled \n",
    "\n",
    "- (different from the classic single process `ipython`)\n",
    "\n",
    "both of these actually start a kernel and a client, \n",
    "  pass `--existing` flag to not start a *new* kernel \n",
    "  and instead simply connect to one that already\n",
    "    exists.\n",
    "    \n",
    "\n",
    "`jupyter notebook` - the one you're probably most familiar with.\n",
    "\n",
    "`jupyter lab` - alpha out, beta coming soon"
   ]
  },
  {
   "cell_type": "markdown",
   "metadata": {},
   "source": [
    "## Wider Jovyan Family\n",
    "[vim-ipython](https://github.com/ivanov/vim-ipython) and [bipython](http://bipython.org)\n",
    "\n",
    "[nteract](http://nteract.io)\n",
    "\n",
    "[hydrogen](https://nteract.gitbooks.io/hydrogen/) - Atom editor + Jupyter"
   ]
  },
  {
   "cell_type": "markdown",
   "metadata": {},
   "source": [
    "<br><br><br><br>"
   ]
  },
  {
   "cell_type": "markdown",
   "metadata": {},
   "source": [
    "# Anatomy of a Message\n",
    "\n",
    "<br><br><br><br>\n",
    "\n",
    "In brief, read [the messaging\n",
    "spec](https://jupyter-client.readthedocs.io/en/latest/messaging.html) for more\n",
    "details.\n",
    "\n",
    "Essential fields:\n",
    "\n",
    "    header:\n",
    "        msg_id:\n",
    "        msg_type: execute_request, execute_reply, object_info_request,\n",
    "        complete_request, complete_reply, history_request, ...\n",
    "\n",
    "    parent_header: (see above, for replies)\n",
    "\n",
    "    content: structure depends on message type\n",
    "\n",
    "        example: `execute_request`\n",
    "            - `code` (str)\n",
    "            - `silent` (bool)\n",
    "            - `store_history` (bool)\n",
    "\n",
    "        example: `execute_reply`\n",
    "            - `status` ('ok', 'error', or 'abort')\n",
    "            - `execution count` (prompt numbers)"
   ]
  },
  {
   "cell_type": "markdown",
   "metadata": {},
   "source": [
    "<br><br><br><br>"
   ]
  },
  {
   "cell_type": "markdown",
   "metadata": {},
   "source": [
    "<br><br><br><br>"
   ]
  },
  {
   "cell_type": "markdown",
   "metadata": {},
   "source": [
    "<br><br><br><br>"
   ]
  },
  {
   "cell_type": "markdown",
   "metadata": {},
   "source": [
    "Jupyter protocol over zermoq happens over multiple channels not just one.\n",
    "    - stdin\n",
    "    - Shell ( action requests: execution, object introspection, code completion )\n",
    "    - IOPub ( \"broadcast channel\" )"
   ]
  },
  {
   "cell_type": "markdown",
   "metadata": {},
   "source": [
    "# What about the notebook? (analogy)"
   ]
  },
  {
   "cell_type": "markdown",
   "metadata": {},
   "source": [
    "see [sequence diagram](/files/notebook-as-proxy.html)"
   ]
  },
  {
   "cell_type": "code",
   "execution_count": null,
   "metadata": {
    "collapsed": true
   },
   "outputs": [],
   "source": []
  },
  {
   "cell_type": "code",
   "execution_count": 2,
   "metadata": {
    "collapsed": true
   },
   "outputs": [],
   "source": [
    "import IPython.display as d"
   ]
  },
  {
   "cell_type": "code",
   "execution_count": 3,
   "metadata": {},
   "outputs": [
    {
     "data": {
      "text/html": [
       "\n",
       "        <iframe\n",
       "            width=\"800\"\n",
       "            height=\"600\"\n",
       "            src=\"/files/notebook-as-proxy.html\"\n",
       "            frameborder=\"0\"\n",
       "            allowfullscreen\n",
       "        ></iframe>\n",
       "        "
      ],
      "text/plain": [
       "<IPython.lib.display.IFrame at 0x106b51a90>"
      ]
     },
     "execution_count": 3,
     "metadata": {},
     "output_type": "execute_result"
    }
   ],
   "source": [
    "d.IFrame(\"/files/notebook-as-proxy.html\", 800, 600)"
   ]
  },
  {
   "cell_type": "code",
   "execution_count": null,
   "metadata": {
    "collapsed": true
   },
   "outputs": [],
   "source": []
  }
 ],
 "metadata": {
  "kernelspec": {
   "display_name": "Python 3",
   "language": "python",
   "name": "python3"
  },
  "language_info": {
   "codemirror_mode": {
    "name": "ipython",
    "version": 3
   },
   "file_extension": ".py",
   "mimetype": "text/x-python",
   "name": "python",
   "nbconvert_exporter": "python",
   "pygments_lexer": "ipython3",
   "version": "3.6.1"
  }
 },
 "nbformat": 4,
 "nbformat_minor": 1
}
